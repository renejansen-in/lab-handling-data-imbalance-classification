{
 "cells": [
  {
   "cell_type": "markdown",
   "id": "790d3d8a",
   "metadata": {},
   "source": [
    "# Lab | Handling Data Imbalance Classification\n",
    "\n",
    "<br>\n",
    "\n",
    "<details><summary>▶ Instructions:</summary>\n",
    "<p>\n",
    "\n",
    "In this lab, we will first take a look at the degree of imbalance in the data and correct it using the techniques we learned on the class.\n",
    "Here is the list of steps to be followed (building a simple model without balancing the data):\n",
    "* Import the required libraries and modules that you would need.\n",
    "* Read that data into Python and call the dataframe churnData.\n",
    "* Check the datatypes of all the columns in the data. You would see that the column TotalCharges is object type. Convert this column into numeric type using pd.to_numeric function.\n",
    "* Check for null values in the dataframe. Replace the null values.\n",
    "* Use the following features: tenure, SeniorCitizen, MonthlyCharges and TotalCharges:\n",
    "    * Scale the features either by using normalizer or a standard scaler.\n",
    "    * Split the data into a training set and a test set.\n",
    "    * Fit a logistic regression model on the training data.\n",
    "    * Check the accuracy on the test data.\n",
    "Note: So far we have not balanced the data.\n",
    "Managing imbalance in the dataset\n",
    "* Check for the imbalance.\n",
    "* Use the resampling strategies used in class for upsampling and downsampling to create a balance between the two classes.\n",
    "* Each time fit the model and see how the accuracy of the model is.\n",
    "\n",
    "</p>\n",
    "</details>"
   ]
  },
  {
   "cell_type": "code",
   "execution_count": 1,
   "id": "a73a7570",
   "metadata": {},
   "outputs": [
    {
     "data": {
      "text/html": [
       "<div>\n",
       "<style scoped>\n",
       "    .dataframe tbody tr th:only-of-type {\n",
       "        vertical-align: middle;\n",
       "    }\n",
       "\n",
       "    .dataframe tbody tr th {\n",
       "        vertical-align: top;\n",
       "    }\n",
       "\n",
       "    .dataframe thead th {\n",
       "        text-align: right;\n",
       "    }\n",
       "</style>\n",
       "<table border=\"1\" class=\"dataframe\">\n",
       "  <thead>\n",
       "    <tr style=\"text-align: right;\">\n",
       "      <th></th>\n",
       "      <th>gender</th>\n",
       "      <th>SeniorCitizen</th>\n",
       "      <th>Partner</th>\n",
       "      <th>Dependents</th>\n",
       "      <th>tenure</th>\n",
       "      <th>PhoneService</th>\n",
       "      <th>OnlineSecurity</th>\n",
       "      <th>OnlineBackup</th>\n",
       "      <th>DeviceProtection</th>\n",
       "      <th>TechSupport</th>\n",
       "      <th>StreamingTV</th>\n",
       "      <th>StreamingMovies</th>\n",
       "      <th>Contract</th>\n",
       "      <th>MonthlyCharges</th>\n",
       "      <th>TotalCharges</th>\n",
       "      <th>Churn</th>\n",
       "    </tr>\n",
       "  </thead>\n",
       "  <tbody>\n",
       "    <tr>\n",
       "      <th>0</th>\n",
       "      <td>Female</td>\n",
       "      <td>0</td>\n",
       "      <td>Yes</td>\n",
       "      <td>No</td>\n",
       "      <td>1</td>\n",
       "      <td>No</td>\n",
       "      <td>No</td>\n",
       "      <td>Yes</td>\n",
       "      <td>No</td>\n",
       "      <td>No</td>\n",
       "      <td>No</td>\n",
       "      <td>No</td>\n",
       "      <td>Month-to-month</td>\n",
       "      <td>29.85</td>\n",
       "      <td>29.85</td>\n",
       "      <td>No</td>\n",
       "    </tr>\n",
       "    <tr>\n",
       "      <th>1</th>\n",
       "      <td>Male</td>\n",
       "      <td>0</td>\n",
       "      <td>No</td>\n",
       "      <td>No</td>\n",
       "      <td>34</td>\n",
       "      <td>Yes</td>\n",
       "      <td>Yes</td>\n",
       "      <td>No</td>\n",
       "      <td>Yes</td>\n",
       "      <td>No</td>\n",
       "      <td>No</td>\n",
       "      <td>No</td>\n",
       "      <td>One year</td>\n",
       "      <td>56.95</td>\n",
       "      <td>1889.5</td>\n",
       "      <td>No</td>\n",
       "    </tr>\n",
       "    <tr>\n",
       "      <th>2</th>\n",
       "      <td>Male</td>\n",
       "      <td>0</td>\n",
       "      <td>No</td>\n",
       "      <td>No</td>\n",
       "      <td>2</td>\n",
       "      <td>Yes</td>\n",
       "      <td>Yes</td>\n",
       "      <td>Yes</td>\n",
       "      <td>No</td>\n",
       "      <td>No</td>\n",
       "      <td>No</td>\n",
       "      <td>No</td>\n",
       "      <td>Month-to-month</td>\n",
       "      <td>53.85</td>\n",
       "      <td>108.15</td>\n",
       "      <td>Yes</td>\n",
       "    </tr>\n",
       "    <tr>\n",
       "      <th>3</th>\n",
       "      <td>Male</td>\n",
       "      <td>0</td>\n",
       "      <td>No</td>\n",
       "      <td>No</td>\n",
       "      <td>45</td>\n",
       "      <td>No</td>\n",
       "      <td>Yes</td>\n",
       "      <td>No</td>\n",
       "      <td>Yes</td>\n",
       "      <td>Yes</td>\n",
       "      <td>No</td>\n",
       "      <td>No</td>\n",
       "      <td>One year</td>\n",
       "      <td>42.30</td>\n",
       "      <td>1840.75</td>\n",
       "      <td>No</td>\n",
       "    </tr>\n",
       "    <tr>\n",
       "      <th>4</th>\n",
       "      <td>Female</td>\n",
       "      <td>0</td>\n",
       "      <td>No</td>\n",
       "      <td>No</td>\n",
       "      <td>2</td>\n",
       "      <td>Yes</td>\n",
       "      <td>No</td>\n",
       "      <td>No</td>\n",
       "      <td>No</td>\n",
       "      <td>No</td>\n",
       "      <td>No</td>\n",
       "      <td>No</td>\n",
       "      <td>Month-to-month</td>\n",
       "      <td>70.70</td>\n",
       "      <td>151.65</td>\n",
       "      <td>Yes</td>\n",
       "    </tr>\n",
       "  </tbody>\n",
       "</table>\n",
       "</div>"
      ],
      "text/plain": [
       "   gender  SeniorCitizen Partner Dependents  tenure PhoneService  \\\n",
       "0  Female              0     Yes         No       1           No   \n",
       "1    Male              0      No         No      34          Yes   \n",
       "2    Male              0      No         No       2          Yes   \n",
       "3    Male              0      No         No      45           No   \n",
       "4  Female              0      No         No       2          Yes   \n",
       "\n",
       "  OnlineSecurity OnlineBackup DeviceProtection TechSupport StreamingTV  \\\n",
       "0             No          Yes               No          No          No   \n",
       "1            Yes           No              Yes          No          No   \n",
       "2            Yes          Yes               No          No          No   \n",
       "3            Yes           No              Yes         Yes          No   \n",
       "4             No           No               No          No          No   \n",
       "\n",
       "  StreamingMovies        Contract  MonthlyCharges TotalCharges Churn  \n",
       "0              No  Month-to-month           29.85        29.85    No  \n",
       "1              No        One year           56.95       1889.5    No  \n",
       "2              No  Month-to-month           53.85       108.15   Yes  \n",
       "3              No        One year           42.30      1840.75    No  \n",
       "4              No  Month-to-month           70.70       151.65   Yes  "
      ]
     },
     "execution_count": 1,
     "metadata": {},
     "output_type": "execute_result"
    }
   ],
   "source": [
    "# Import the required libraries and modules that you would need.\n",
    "import pandas as pd\n",
    "import numpy as np\n",
    "import statsmodels.api as sm\n",
    "import imblearn\n",
    "import matplotlib.pyplot as plt\n",
    "import seaborn as sns\n",
    "import statsmodels.api as sm\n",
    "from sklearn.metrics import confusion_matrix\n",
    "from sklearn.metrics import precision_score\n",
    "from sklearn.metrics import accuracy_score\n",
    "from sklearn.metrics import recall_score\n",
    "from sklearn.metrics import f1_score\n",
    "from sklearn.metrics import r2_score\n",
    "from sklearn.metrics import plot_confusion_matrix\n",
    "# Read that data into Python and call the dataframe churnData.\n",
    "churnData = pd.read_csv('files_for_lab/Customer-Churn.csv')\n",
    "churnData.head()"
   ]
  },
  {
   "cell_type": "code",
   "execution_count": 2,
   "id": "6054c841",
   "metadata": {},
   "outputs": [
    {
     "data": {
      "text/plain": [
       "dtype('float64')"
      ]
     },
     "execution_count": 2,
     "metadata": {},
     "output_type": "execute_result"
    }
   ],
   "source": [
    "# Check the datatypes of all the columns in the data. You would see that the column \n",
    "# TotalCharges is object type. Convert this column into numeric type using pd.to_numeric function.\n",
    "#churnData.info()\n",
    "churnData['TotalCharges'] = churnData['TotalCharges'].apply(pd.to_numeric, errors='coerce')\n",
    "churnData['TotalCharges'].dtype"
   ]
  },
  {
   "cell_type": "code",
   "execution_count": 3,
   "id": "18bd5f78",
   "metadata": {},
   "outputs": [
    {
     "data": {
      "text/plain": [
       "gender              0.000000\n",
       "SeniorCitizen       0.000000\n",
       "Partner             0.000000\n",
       "Dependents          0.000000\n",
       "tenure              0.000000\n",
       "PhoneService        0.000000\n",
       "OnlineSecurity      0.000000\n",
       "OnlineBackup        0.000000\n",
       "DeviceProtection    0.000000\n",
       "TechSupport         0.000000\n",
       "StreamingTV         0.000000\n",
       "StreamingMovies     0.000000\n",
       "Contract            0.000000\n",
       "MonthlyCharges      0.000000\n",
       "TotalCharges        0.001562\n",
       "Churn               0.000000\n",
       "dtype: float64"
      ]
     },
     "execution_count": 3,
     "metadata": {},
     "output_type": "execute_result"
    }
   ],
   "source": [
    "# Check for null values in the dataframe. Replace the null values.\n",
    "churnData.isnull().sum()/len(churnData)  "
   ]
  },
  {
   "cell_type": "code",
   "execution_count": 4,
   "id": "cd0dc3cb",
   "metadata": {},
   "outputs": [
    {
     "data": {
      "text/plain": [
       "gender              0.0\n",
       "SeniorCitizen       0.0\n",
       "Partner             0.0\n",
       "Dependents          0.0\n",
       "tenure              0.0\n",
       "PhoneService        0.0\n",
       "OnlineSecurity      0.0\n",
       "OnlineBackup        0.0\n",
       "DeviceProtection    0.0\n",
       "TechSupport         0.0\n",
       "StreamingTV         0.0\n",
       "StreamingMovies     0.0\n",
       "Contract            0.0\n",
       "MonthlyCharges      0.0\n",
       "TotalCharges        0.0\n",
       "Churn               0.0\n",
       "dtype: float64"
      ]
     },
     "execution_count": 4,
     "metadata": {},
     "output_type": "execute_result"
    }
   ],
   "source": [
    "# decide to drop the few rows with NaN in TotalCharges\n",
    "churnData = churnData.dropna(subset=['TotalCharges'])\n",
    "churnData.isnull().sum()/len(churnData)  "
   ]
  },
  {
   "cell_type": "code",
   "execution_count": 5,
   "id": "ab17dcf2",
   "metadata": {},
   "outputs": [],
   "source": [
    "# Use the following features: tenure, SeniorCitizen, MonthlyCharges and TotalCharges:\n",
    "#     Scale the features either by using normalizer or a standard scaler.\n",
    "#     Split the data into a training set and a test set.\n",
    "#     Fit a logistic regression model on the training data.\n",
    "#     Check the accuracy on the test data.Note: So far we have not balanced the data"
   ]
  },
  {
   "cell_type": "code",
   "execution_count": 6,
   "id": "0bae6225",
   "metadata": {},
   "outputs": [
    {
     "data": {
      "text/html": [
       "<div>\n",
       "<style scoped>\n",
       "    .dataframe tbody tr th:only-of-type {\n",
       "        vertical-align: middle;\n",
       "    }\n",
       "\n",
       "    .dataframe tbody tr th {\n",
       "        vertical-align: top;\n",
       "    }\n",
       "\n",
       "    .dataframe thead th {\n",
       "        text-align: right;\n",
       "    }\n",
       "</style>\n",
       "<table border=\"1\" class=\"dataframe\">\n",
       "  <thead>\n",
       "    <tr style=\"text-align: right;\">\n",
       "      <th></th>\n",
       "      <th>SeniorCitizen</th>\n",
       "      <th>tenure</th>\n",
       "      <th>MonthlyCharges</th>\n",
       "      <th>TotalCharges</th>\n",
       "      <th>Churn</th>\n",
       "    </tr>\n",
       "  </thead>\n",
       "  <tbody>\n",
       "    <tr>\n",
       "      <th>0</th>\n",
       "      <td>0</td>\n",
       "      <td>1</td>\n",
       "      <td>29.85</td>\n",
       "      <td>29.85</td>\n",
       "      <td>0</td>\n",
       "    </tr>\n",
       "    <tr>\n",
       "      <th>1</th>\n",
       "      <td>0</td>\n",
       "      <td>34</td>\n",
       "      <td>56.95</td>\n",
       "      <td>1889.50</td>\n",
       "      <td>0</td>\n",
       "    </tr>\n",
       "    <tr>\n",
       "      <th>2</th>\n",
       "      <td>0</td>\n",
       "      <td>2</td>\n",
       "      <td>53.85</td>\n",
       "      <td>108.15</td>\n",
       "      <td>1</td>\n",
       "    </tr>\n",
       "    <tr>\n",
       "      <th>3</th>\n",
       "      <td>0</td>\n",
       "      <td>45</td>\n",
       "      <td>42.30</td>\n",
       "      <td>1840.75</td>\n",
       "      <td>0</td>\n",
       "    </tr>\n",
       "    <tr>\n",
       "      <th>4</th>\n",
       "      <td>0</td>\n",
       "      <td>2</td>\n",
       "      <td>70.70</td>\n",
       "      <td>151.65</td>\n",
       "      <td>1</td>\n",
       "    </tr>\n",
       "  </tbody>\n",
       "</table>\n",
       "</div>"
      ],
      "text/plain": [
       "   SeniorCitizen  tenure  MonthlyCharges  TotalCharges  Churn\n",
       "0              0       1           29.85         29.85      0\n",
       "1              0      34           56.95       1889.50      0\n",
       "2              0       2           53.85        108.15      1\n",
       "3              0      45           42.30       1840.75      0\n",
       "4              0       2           70.70        151.65      1"
      ]
     },
     "execution_count": 6,
     "metadata": {},
     "output_type": "execute_result"
    }
   ],
   "source": [
    "# Scaling\n",
    "churnData.head()\n",
    "# first change Churn into numerical\n",
    "churnData['Churn'] = churnData['Churn'].replace({'No': 0, 'Yes': 1})\n",
    "numerical = churnData._get_numeric_data()\n",
    "numerical.head()"
   ]
  },
  {
   "cell_type": "code",
   "execution_count": 7,
   "id": "19bb0784",
   "metadata": {},
   "outputs": [],
   "source": [
    "# Test-split\n",
    "from sklearn.model_selection import train_test_split\n",
    "numerical = churnData._get_numeric_data()\n",
    "X = numerical.drop(labels='Churn', axis=1)\n",
    "y = numerical['Churn']\n",
    "X_train, X_test, y_train, y_test = train_test_split(X, y, test_size=0.2, random_state=42)"
   ]
  },
  {
   "cell_type": "code",
   "execution_count": 8,
   "id": "d3bebd37",
   "metadata": {},
   "outputs": [],
   "source": [
    "# Scale \n",
    "from sklearn.preprocessing import MinMaxScaler\n",
    "\n",
    "MinMaxtransformer = MinMaxScaler().fit(X_train)\n",
    "X_normalized_train = MinMaxtransformer.transform(X_train)\n",
    "X_train_normalized = pd.DataFrame(X_normalized_train, columns=X_train.columns)\n",
    "\n",
    "MinMaxtransformer = MinMaxScaler().fit(X_test)\n",
    "X_normalized_test = MinMaxtransformer.transform(X_test)\n",
    "X_test_normalized = pd.DataFrame(X_normalized_test, columns=X_test.columns)\n",
    "\n",
    "y_train = y_train.reset_index(drop=True)\n",
    "y_test = y_test.reset_index(drop=True)"
   ]
  },
  {
   "cell_type": "code",
   "execution_count": 9,
   "id": "cfc2c059",
   "metadata": {},
   "outputs": [
    {
     "data": {
      "text/plain": [
       "DecisionTreeClassifier(max_depth=5)"
      ]
     },
     "execution_count": 9,
     "metadata": {},
     "output_type": "execute_result"
    }
   ],
   "source": [
    "# Fit \n",
    "from sklearn.tree import DecisionTreeClassifier\n",
    "model = DecisionTreeClassifier(max_depth=5)\n",
    "model.fit(X_train_normalized, y_train)"
   ]
  },
  {
   "cell_type": "code",
   "execution_count": 10,
   "id": "e59e1f1a",
   "metadata": {},
   "outputs": [
    {
     "name": "stdout",
     "output_type": "stream",
     "text": [
      "Accuracy test data: 0.7668798862828714\n",
      "Acuracy train data: 0.7982222222222223\n"
     ]
    }
   ],
   "source": [
    "print(\"Accuracy test data:\",model.score(X_test_normalized, y_test))\n",
    "print(\"Acuracy train data:\",model.score(X_train_normalized, y_train))"
   ]
  },
  {
   "cell_type": "code",
   "execution_count": 11,
   "id": "06ef3a65",
   "metadata": {},
   "outputs": [
    {
     "data": {
      "text/plain": [
       "0    4130\n",
       "1    1495\n",
       "Name: Churn, dtype: int64"
      ]
     },
     "execution_count": 11,
     "metadata": {},
     "output_type": "execute_result"
    }
   ],
   "source": [
    "# Managing imbalance in the dataset\n",
    "# * Check for the imbalance.\n",
    "y.value_counts()\n",
    "y_train.value_counts()\n",
    "# with target values nearly 3 times more 0, it can be called imbalanced"
   ]
  },
  {
   "cell_type": "code",
   "execution_count": 12,
   "id": "eb17cda8",
   "metadata": {},
   "outputs": [],
   "source": [
    "# * Use the resampling strategies used in class for upsampling and downsampling to create a \n",
    "#   balance between the two classes.\n",
    "# * Each time fit the model and see how the accuracy of the model is.\n",
    "from sklearn.utils import resample\n",
    "# Only on the TRAINING set we do resampling, TEST set still shows reality\n",
    "train = pd.concat([X_train_normalized, y_train],axis=1)\n",
    "churn_0 = train[train['Churn'] == 0]     # 4130\n",
    "churn_1 = train[train['Churn'] == 1]     # 1495"
   ]
  },
  {
   "cell_type": "markdown",
   "id": "4c27701a",
   "metadata": {},
   "source": [
    "## Upsampling"
   ]
  },
  {
   "cell_type": "code",
   "execution_count": 13,
   "id": "811abff6",
   "metadata": {},
   "outputs": [],
   "source": [
    "# us = upsampling    1495 --> 4130 "
   ]
  },
  {
   "cell_type": "code",
   "execution_count": 14,
   "id": "98448fc7",
   "metadata": {},
   "outputs": [
    {
     "name": "stdout",
     "output_type": "stream",
     "text": [
      "0 = (4130, 5)\n",
      "1 = (4130, 5)\n"
     ]
    }
   ],
   "source": [
    "churn_1_us = resample(churn_1, replace=True, n_samples = len(churn_0))\n",
    "print(\"0 =\", churn_0.shape)\n",
    "print(\"1 =\", churn_1_us.shape)"
   ]
  },
  {
   "cell_type": "code",
   "execution_count": 15,
   "id": "69a02e13",
   "metadata": {},
   "outputs": [],
   "source": [
    "churn_us = pd.concat([churn_0, churn_1_us], axis=0)\n",
    "churn_us['Churn'].value_counts()\n",
    "\n",
    "y_train_us = churn_us['Churn']\n",
    "X_train_us = churn_us[['tenure','SeniorCitizen','MonthlyCharges','TotalCharges']]"
   ]
  },
  {
   "cell_type": "code",
   "execution_count": 16,
   "id": "81064245",
   "metadata": {},
   "outputs": [
    {
     "name": "stdout",
     "output_type": "stream",
     "text": [
      "accuracy:  0.3582089552238806\n",
      "precision: 0.25117591721542804\n",
      "recall:    0.713903743315508\n",
      "f1:        0.37160751565762\n"
     ]
    },
    {
     "data": {
      "text/plain": [
       "array([[237, 796],\n",
       "       [107, 267]])"
      ]
     },
     "execution_count": 16,
     "metadata": {},
     "output_type": "execute_result"
    }
   ],
   "source": [
    "from sklearn.linear_model import LogisticRegression\n",
    "LR_us = LogisticRegression(max_iter=1000)\n",
    "LR_us.fit(X_train_us, y_train_us)\n",
    "pred_us = LR_us.predict(X_test_normalized)\n",
    "print(\"accuracy: \",LR_us.score(X_test_normalized, y_test))\n",
    "print(\"precision:\",precision_score(y_test,pred_us))\n",
    "print(\"recall:   \",recall_score(y_test,pred_us))\n",
    "print(\"f1:       \",f1_score(y_test,pred_us))\n",
    "\n",
    "confusion_matrix(y_test,pred_us)"
   ]
  },
  {
   "cell_type": "markdown",
   "id": "425ce514",
   "metadata": {},
   "source": [
    "## Downsampling"
   ]
  },
  {
   "cell_type": "code",
   "execution_count": 17,
   "id": "14150efa",
   "metadata": {},
   "outputs": [],
   "source": [
    "# DS = Downsampling    4130 --> 1495 "
   ]
  },
  {
   "cell_type": "code",
   "execution_count": 18,
   "id": "1049d959",
   "metadata": {},
   "outputs": [
    {
     "name": "stdout",
     "output_type": "stream",
     "text": [
      "0 = (1495, 5)\n",
      "1 = (1495, 5)\n"
     ]
    }
   ],
   "source": [
    "churn_0_ds = resample(churn_0, replace=False, n_samples = len(churn_1))\n",
    "print(\"0 =\", churn_0_ds.shape)\n",
    "print(\"1 =\", churn_1.shape)"
   ]
  },
  {
   "cell_type": "code",
   "execution_count": 19,
   "id": "4fd52e07",
   "metadata": {},
   "outputs": [],
   "source": [
    "churn_ds = pd.concat([churn_0_ds, churn_1], axis=0)\n",
    "churn_ds['Churn'].value_counts()\n",
    "\n",
    "y_train_ds = churn_ds['Churn']\n",
    "X_train_ds = churn_ds[['tenure','SeniorCitizen','MonthlyCharges','TotalCharges']]"
   ]
  },
  {
   "cell_type": "code",
   "execution_count": 20,
   "id": "5d99e844",
   "metadata": {},
   "outputs": [
    {
     "name": "stdout",
     "output_type": "stream",
     "text": [
      "accuracy:  0.3603411513859275\n",
      "precision: 0.2514177693761815\n",
      "recall:    0.7112299465240641\n",
      "f1:        0.3715083798882682\n"
     ]
    },
    {
     "data": {
      "text/plain": [
       "array([[241, 792],\n",
       "       [108, 266]])"
      ]
     },
     "execution_count": 20,
     "metadata": {},
     "output_type": "execute_result"
    }
   ],
   "source": [
    "LR_ds = LogisticRegression(max_iter=1000)\n",
    "LR_ds.fit(X_train_ds, y_train_ds)\n",
    "pred_ds = LR_ds.predict(X_test_normalized)\n",
    "print(\"accuracy: \",LR_ds.score(X_test_normalized, y_test))\n",
    "print(\"precision:\",precision_score(y_test,pred_ds))\n",
    "print(\"recall:   \",recall_score(y_test,pred_ds))\n",
    "print(\"f1:       \",f1_score(y_test,pred_ds))\n",
    "\n",
    "confusion_matrix(y_test,pred_ds)"
   ]
  },
  {
   "cell_type": "code",
   "execution_count": 21,
   "id": "8f399152",
   "metadata": {},
   "outputs": [
    {
     "data": {
      "text/plain": [
       "array([[237, 796],\n",
       "       [107, 267]])"
      ]
     },
     "execution_count": 21,
     "metadata": {},
     "output_type": "execute_result"
    }
   ],
   "source": [
    "# Repeat from upsampling\n",
    "confusion_matrix(y_test,pred_us)"
   ]
  },
  {
   "cell_type": "code",
   "execution_count": 22,
   "id": "54ad63bf",
   "metadata": {},
   "outputs": [],
   "source": [
    "# Re-running seems to make a competition in false positives: sometimes upsampling \n",
    "# sometimes downsampling gives more false positives, so difficult to say which \n",
    "# resampling is more appropriate. Same goes for the other KPI's"
   ]
  }
 ],
 "metadata": {
  "kernelspec": {
   "display_name": "Python 3",
   "language": "python",
   "name": "python3"
  },
  "language_info": {
   "codemirror_mode": {
    "name": "ipython",
    "version": 3
   },
   "file_extension": ".py",
   "mimetype": "text/x-python",
   "name": "python",
   "nbconvert_exporter": "python",
   "pygments_lexer": "ipython3",
   "version": "3.8.8"
  }
 },
 "nbformat": 4,
 "nbformat_minor": 5
}
